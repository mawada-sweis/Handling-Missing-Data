{
 "cells": [
  {
   "cell_type": "code",
   "execution_count": 1,
   "metadata": {},
   "outputs": [],
   "source": [
    "import pandas as pd"
   ]
  },
  {
   "cell_type": "code",
   "execution_count": 3,
   "metadata": {},
   "outputs": [],
   "source": [
    "# load the dataset as a DataFrame\n",
    "data = pd.read_csv(\"data.csv\")"
   ]
  },
  {
   "cell_type": "code",
   "execution_count": 4,
   "metadata": {},
   "outputs": [
    {
     "data": {
      "text/html": [
       "<div>\n",
       "<style scoped>\n",
       "    .dataframe tbody tr th:only-of-type {\n",
       "        vertical-align: middle;\n",
       "    }\n",
       "\n",
       "    .dataframe tbody tr th {\n",
       "        vertical-align: top;\n",
       "    }\n",
       "\n",
       "    .dataframe thead th {\n",
       "        text-align: right;\n",
       "    }\n",
       "</style>\n",
       "<table border=\"1\" class=\"dataframe\">\n",
       "  <thead>\n",
       "    <tr style=\"text-align: right;\">\n",
       "      <th></th>\n",
       "      <th>play_id</th>\n",
       "      <th>game_id</th>\n",
       "      <th>home_team</th>\n",
       "      <th>away_team</th>\n",
       "      <th>posteam</th>\n",
       "      <th>posteam_type</th>\n",
       "      <th>defteam</th>\n",
       "      <th>side_of_field</th>\n",
       "      <th>yardline_100</th>\n",
       "      <th>game_date</th>\n",
       "      <th>...</th>\n",
       "      <th>penalty_player_id</th>\n",
       "      <th>penalty_player_name</th>\n",
       "      <th>penalty_yards</th>\n",
       "      <th>replay_or_challenge</th>\n",
       "      <th>replay_or_challenge_result</th>\n",
       "      <th>penalty_type</th>\n",
       "      <th>defensive_two_point_attempt</th>\n",
       "      <th>defensive_two_point_conv</th>\n",
       "      <th>defensive_extra_point_attempt</th>\n",
       "      <th>defensive_extra_point_conv</th>\n",
       "    </tr>\n",
       "  </thead>\n",
       "  <tbody>\n",
       "    <tr>\n",
       "      <th>0</th>\n",
       "      <td>46</td>\n",
       "      <td>2009091000</td>\n",
       "      <td>PIT</td>\n",
       "      <td>TEN</td>\n",
       "      <td>PIT</td>\n",
       "      <td>home</td>\n",
       "      <td>TEN</td>\n",
       "      <td>TEN</td>\n",
       "      <td>30.0</td>\n",
       "      <td>2009-09-10</td>\n",
       "      <td>...</td>\n",
       "      <td>NaN</td>\n",
       "      <td>NaN</td>\n",
       "      <td>NaN</td>\n",
       "      <td>0</td>\n",
       "      <td>NaN</td>\n",
       "      <td>NaN</td>\n",
       "      <td>0.0</td>\n",
       "      <td>0.0</td>\n",
       "      <td>0.0</td>\n",
       "      <td>0.0</td>\n",
       "    </tr>\n",
       "    <tr>\n",
       "      <th>1</th>\n",
       "      <td>68</td>\n",
       "      <td>2009091000</td>\n",
       "      <td>PIT</td>\n",
       "      <td>TEN</td>\n",
       "      <td>PIT</td>\n",
       "      <td>home</td>\n",
       "      <td>TEN</td>\n",
       "      <td>PIT</td>\n",
       "      <td>58.0</td>\n",
       "      <td>2009-09-10</td>\n",
       "      <td>...</td>\n",
       "      <td>NaN</td>\n",
       "      <td>NaN</td>\n",
       "      <td>NaN</td>\n",
       "      <td>0</td>\n",
       "      <td>NaN</td>\n",
       "      <td>NaN</td>\n",
       "      <td>0.0</td>\n",
       "      <td>0.0</td>\n",
       "      <td>0.0</td>\n",
       "      <td>0.0</td>\n",
       "    </tr>\n",
       "    <tr>\n",
       "      <th>2</th>\n",
       "      <td>92</td>\n",
       "      <td>2009091000</td>\n",
       "      <td>PIT</td>\n",
       "      <td>TEN</td>\n",
       "      <td>PIT</td>\n",
       "      <td>home</td>\n",
       "      <td>TEN</td>\n",
       "      <td>PIT</td>\n",
       "      <td>53.0</td>\n",
       "      <td>2009-09-10</td>\n",
       "      <td>...</td>\n",
       "      <td>NaN</td>\n",
       "      <td>NaN</td>\n",
       "      <td>NaN</td>\n",
       "      <td>0</td>\n",
       "      <td>NaN</td>\n",
       "      <td>NaN</td>\n",
       "      <td>0.0</td>\n",
       "      <td>0.0</td>\n",
       "      <td>0.0</td>\n",
       "      <td>0.0</td>\n",
       "    </tr>\n",
       "    <tr>\n",
       "      <th>3</th>\n",
       "      <td>113</td>\n",
       "      <td>2009091000</td>\n",
       "      <td>PIT</td>\n",
       "      <td>TEN</td>\n",
       "      <td>PIT</td>\n",
       "      <td>home</td>\n",
       "      <td>TEN</td>\n",
       "      <td>PIT</td>\n",
       "      <td>56.0</td>\n",
       "      <td>2009-09-10</td>\n",
       "      <td>...</td>\n",
       "      <td>NaN</td>\n",
       "      <td>NaN</td>\n",
       "      <td>NaN</td>\n",
       "      <td>0</td>\n",
       "      <td>NaN</td>\n",
       "      <td>NaN</td>\n",
       "      <td>0.0</td>\n",
       "      <td>0.0</td>\n",
       "      <td>0.0</td>\n",
       "      <td>0.0</td>\n",
       "    </tr>\n",
       "    <tr>\n",
       "      <th>4</th>\n",
       "      <td>139</td>\n",
       "      <td>2009091000</td>\n",
       "      <td>PIT</td>\n",
       "      <td>TEN</td>\n",
       "      <td>PIT</td>\n",
       "      <td>home</td>\n",
       "      <td>TEN</td>\n",
       "      <td>PIT</td>\n",
       "      <td>56.0</td>\n",
       "      <td>2009-09-10</td>\n",
       "      <td>...</td>\n",
       "      <td>NaN</td>\n",
       "      <td>NaN</td>\n",
       "      <td>NaN</td>\n",
       "      <td>0</td>\n",
       "      <td>NaN</td>\n",
       "      <td>NaN</td>\n",
       "      <td>0.0</td>\n",
       "      <td>0.0</td>\n",
       "      <td>0.0</td>\n",
       "      <td>0.0</td>\n",
       "    </tr>\n",
       "  </tbody>\n",
       "</table>\n",
       "<p>5 rows × 256 columns</p>\n",
       "</div>"
      ],
      "text/plain": [
       "   play_id     game_id home_team away_team posteam posteam_type defteam  \\\n",
       "0       46  2009091000       PIT       TEN     PIT         home     TEN   \n",
       "1       68  2009091000       PIT       TEN     PIT         home     TEN   \n",
       "2       92  2009091000       PIT       TEN     PIT         home     TEN   \n",
       "3      113  2009091000       PIT       TEN     PIT         home     TEN   \n",
       "4      139  2009091000       PIT       TEN     PIT         home     TEN   \n",
       "\n",
       "  side_of_field  yardline_100   game_date  ...  penalty_player_id  \\\n",
       "0           TEN          30.0  2009-09-10  ...                NaN   \n",
       "1           PIT          58.0  2009-09-10  ...                NaN   \n",
       "2           PIT          53.0  2009-09-10  ...                NaN   \n",
       "3           PIT          56.0  2009-09-10  ...                NaN   \n",
       "4           PIT          56.0  2009-09-10  ...                NaN   \n",
       "\n",
       "   penalty_player_name  penalty_yards replay_or_challenge  \\\n",
       "0                  NaN            NaN                   0   \n",
       "1                  NaN            NaN                   0   \n",
       "2                  NaN            NaN                   0   \n",
       "3                  NaN            NaN                   0   \n",
       "4                  NaN            NaN                   0   \n",
       "\n",
       "   replay_or_challenge_result  penalty_type  defensive_two_point_attempt  \\\n",
       "0                         NaN           NaN                          0.0   \n",
       "1                         NaN           NaN                          0.0   \n",
       "2                         NaN           NaN                          0.0   \n",
       "3                         NaN           NaN                          0.0   \n",
       "4                         NaN           NaN                          0.0   \n",
       "\n",
       "   defensive_two_point_conv  defensive_extra_point_attempt  \\\n",
       "0                       0.0                            0.0   \n",
       "1                       0.0                            0.0   \n",
       "2                       0.0                            0.0   \n",
       "3                       0.0                            0.0   \n",
       "4                       0.0                            0.0   \n",
       "\n",
       "   defensive_extra_point_conv  \n",
       "0                         0.0  \n",
       "1                         0.0  \n",
       "2                         0.0  \n",
       "3                         0.0  \n",
       "4                         0.0  \n",
       "\n",
       "[5 rows x 256 columns]"
      ]
     },
     "execution_count": 4,
     "metadata": {},
     "output_type": "execute_result"
    }
   ],
   "source": [
    "# Get an overview of the data\n",
    "data.head()"
   ]
  },
  {
   "cell_type": "markdown",
   "metadata": {},
   "source": [
    "- The data is about players, team and there games..\n",
    "- There is a category and numaric columns\n",
    "- There is NAN value need to handling\n",
    "- There is date column\n",
    "- There is column has 0/1 value -> its category not numaric\n"
   ]
  },
  {
   "cell_type": "code",
   "execution_count": 5,
   "metadata": {},
   "outputs": [
    {
     "data": {
      "text/plain": [
       "(44596, 256)"
      ]
     },
     "execution_count": 5,
     "metadata": {},
     "output_type": "execute_result"
    }
   ],
   "source": [
    "# Get the shape of the data \n",
    "data.shape"
   ]
  },
  {
   "cell_type": "markdown",
   "metadata": {},
   "source": [
    "we have 44596 rows and 256 column to handle"
   ]
  },
  {
   "cell_type": "code",
   "execution_count": 6,
   "metadata": {},
   "outputs": [],
   "source": [
    "# Delete columns that were missing data more than 65% of the data of the column \n",
    "data.drop(data.columns[data.isna().mean() > 0.65], axis=1, inplace=True)"
   ]
  },
  {
   "cell_type": "code",
   "execution_count": 7,
   "metadata": {},
   "outputs": [
    {
     "data": {
      "text/plain": [
       "(44596, 165)"
      ]
     },
     "execution_count": 7,
     "metadata": {},
     "output_type": "execute_result"
    }
   ],
   "source": [
    "# Display the shape of data DataFrame after deleting\n",
    "data.shape"
   ]
  },
  {
   "cell_type": "markdown",
   "metadata": {},
   "source": [
    "We had 256 columns and now have 165 columns, which means that 91 columns had missing data that represented for more than 65 percent of the column's data."
   ]
  },
  {
   "cell_type": "code",
   "execution_count": 8,
   "metadata": {},
   "outputs": [],
   "source": [
    "# I will eliminate rows when more than half of the row is missing.\n",
    "data.drop(data.index[data.isna().mean(axis=1) >= 0.5].tolist(),inplace=True)"
   ]
  },
  {
   "cell_type": "code",
   "execution_count": 9,
   "metadata": {},
   "outputs": [
    {
     "data": {
      "text/plain": [
       "(43084, 165)"
      ]
     },
     "execution_count": 9,
     "metadata": {},
     "output_type": "execute_result"
    }
   ],
   "source": [
    "# Display the shape of numeric_data DataFrame after deleting\n",
    "data.shape"
   ]
  },
  {
   "cell_type": "markdown",
   "metadata": {},
   "source": [
    "decreased the number of rows by around 1512 rows"
   ]
  },
  {
   "cell_type": "code",
   "execution_count": 10,
   "metadata": {},
   "outputs": [
    {
     "data": {
      "text/plain": [
       "array([dtype('int64'), dtype('O'), dtype('float64')], dtype=object)"
      ]
     },
     "execution_count": 10,
     "metadata": {},
     "output_type": "execute_result"
    }
   ],
   "source": [
    "# What is the data type that data contains?\n",
    "data.dtypes.unique()"
   ]
  },
  {
   "cell_type": "markdown",
   "metadata": {},
   "source": [
    "I had to split the data into numeric data that contain int64 and float64 data type, and category data that contain object data type because handling the numeric data is not the same as categorical data. "
   ]
  },
  {
   "cell_type": "code",
   "execution_count": 11,
   "metadata": {},
   "outputs": [
    {
     "name": "stdout",
     "output_type": "stream",
     "text": [
      "numeric shape: (43084, 144)\n",
      "category shape: (43084, 21)\n"
     ]
    }
   ],
   "source": [
    "numeric_data = data.select_dtypes(exclude=['object']).copy()\n",
    "print(\"numeric shape:\", numeric_data.shape)\n",
    "category_data = data.select_dtypes(exclude=['int64', 'float64']).copy()\n",
    "print(\"category shape:\", category_data.shape)"
   ]
  },
  {
   "cell_type": "markdown",
   "metadata": {},
   "source": [
    "# Handling Numeric Data"
   ]
  },
  {
   "cell_type": "code",
   "execution_count": 12,
   "metadata": {},
   "outputs": [
    {
     "data": {
      "text/plain": [
       "(36,)"
      ]
     },
     "execution_count": 12,
     "metadata": {},
     "output_type": "execute_result"
    }
   ],
   "source": [
    "# Let's see how many columns I want to deal with to handle it\n",
    "numeric_data.columns[numeric_data.isna().sum() > 0].shape"
   ]
  },
  {
   "cell_type": "markdown",
   "metadata": {},
   "source": [
    "36 out of 144 I will handle them"
   ]
  },
  {
   "cell_type": "code",
   "execution_count": 13,
   "metadata": {},
   "outputs": [],
   "source": [
    "# Get features name which has NAN value from numeric columns of mean_features columns\n",
    "mean_features = numeric_data.columns[numeric_data.isna().any()]"
   ]
  },
  {
   "cell_type": "code",
   "execution_count": 14,
   "metadata": {},
   "outputs": [
    {
     "data": {
      "text/plain": [
       "(36,)"
      ]
     },
     "execution_count": 14,
     "metadata": {},
     "output_type": "execute_result"
    }
   ],
   "source": [
    "mean_features.shape "
   ]
  },
  {
   "cell_type": "markdown",
   "metadata": {},
   "source": [
    "There are 36 columns to deal with, all of which have missing data"
   ]
  },
  {
   "cell_type": "code",
   "execution_count": 15,
   "metadata": {},
   "outputs": [],
   "source": [
    "# Fill NAN value for these columns by the column mean\n",
    "numeric_data[mean_features] = numeric_data[mean_features].fillna(value=numeric_data[mean_features].mean())"
   ]
  },
  {
   "cell_type": "code",
   "execution_count": 16,
   "metadata": {},
   "outputs": [
    {
     "data": {
      "text/plain": [
       "Index([], dtype='object')"
      ]
     },
     "execution_count": 16,
     "metadata": {},
     "output_type": "execute_result"
    }
   ],
   "source": [
    "# Check to see if any columns have missing data\n",
    "numeric_data.columns[numeric_data.isna().any()]"
   ]
  },
  {
   "cell_type": "markdown",
   "metadata": {},
   "source": [
    "We've finished with the numerical data, now I'll enter it into the original dataframe"
   ]
  },
  {
   "cell_type": "markdown",
   "metadata": {},
   "source": [
    "# Handling Category Data"
   ]
  },
  {
   "cell_type": "code",
   "execution_count": 17,
   "metadata": {},
   "outputs": [
    {
     "data": {
      "text/html": [
       "<div>\n",
       "<style scoped>\n",
       "    .dataframe tbody tr th:only-of-type {\n",
       "        vertical-align: middle;\n",
       "    }\n",
       "\n",
       "    .dataframe tbody tr th {\n",
       "        vertical-align: top;\n",
       "    }\n",
       "\n",
       "    .dataframe thead th {\n",
       "        text-align: right;\n",
       "    }\n",
       "</style>\n",
       "<table border=\"1\" class=\"dataframe\">\n",
       "  <thead>\n",
       "    <tr style=\"text-align: right;\">\n",
       "      <th></th>\n",
       "      <th>home_team</th>\n",
       "      <th>away_team</th>\n",
       "      <th>posteam</th>\n",
       "      <th>posteam_type</th>\n",
       "      <th>defteam</th>\n",
       "      <th>side_of_field</th>\n",
       "      <th>game_date</th>\n",
       "      <th>game_half</th>\n",
       "      <th>time</th>\n",
       "      <th>yrdln</th>\n",
       "      <th>...</th>\n",
       "      <th>play_type</th>\n",
       "      <th>pass_length</th>\n",
       "      <th>pass_location</th>\n",
       "      <th>passer_player_id</th>\n",
       "      <th>passer_player_name</th>\n",
       "      <th>receiver_player_id</th>\n",
       "      <th>receiver_player_name</th>\n",
       "      <th>solo_tackle_1_team</th>\n",
       "      <th>solo_tackle_1_player_id</th>\n",
       "      <th>solo_tackle_1_player_name</th>\n",
       "    </tr>\n",
       "  </thead>\n",
       "  <tbody>\n",
       "    <tr>\n",
       "      <th>0</th>\n",
       "      <td>PIT</td>\n",
       "      <td>TEN</td>\n",
       "      <td>PIT</td>\n",
       "      <td>home</td>\n",
       "      <td>TEN</td>\n",
       "      <td>TEN</td>\n",
       "      <td>2009-09-10</td>\n",
       "      <td>Half1</td>\n",
       "      <td>15:00</td>\n",
       "      <td>TEN 30</td>\n",
       "      <td>...</td>\n",
       "      <td>kickoff</td>\n",
       "      <td>NaN</td>\n",
       "      <td>NaN</td>\n",
       "      <td>NaN</td>\n",
       "      <td>NaN</td>\n",
       "      <td>NaN</td>\n",
       "      <td>NaN</td>\n",
       "      <td>TEN</td>\n",
       "      <td>00-0025406</td>\n",
       "      <td>M.Griffin</td>\n",
       "    </tr>\n",
       "    <tr>\n",
       "      <th>1</th>\n",
       "      <td>PIT</td>\n",
       "      <td>TEN</td>\n",
       "      <td>PIT</td>\n",
       "      <td>home</td>\n",
       "      <td>TEN</td>\n",
       "      <td>PIT</td>\n",
       "      <td>2009-09-10</td>\n",
       "      <td>Half1</td>\n",
       "      <td>14:53</td>\n",
       "      <td>PIT 42</td>\n",
       "      <td>...</td>\n",
       "      <td>pass</td>\n",
       "      <td>short</td>\n",
       "      <td>left</td>\n",
       "      <td>00-0022924</td>\n",
       "      <td>B.Roethlisberger</td>\n",
       "      <td>00-0017162</td>\n",
       "      <td>H.Ward</td>\n",
       "      <td>TEN</td>\n",
       "      <td>00-0021219</td>\n",
       "      <td>C.Hope</td>\n",
       "    </tr>\n",
       "    <tr>\n",
       "      <th>2</th>\n",
       "      <td>PIT</td>\n",
       "      <td>TEN</td>\n",
       "      <td>PIT</td>\n",
       "      <td>home</td>\n",
       "      <td>TEN</td>\n",
       "      <td>PIT</td>\n",
       "      <td>2009-09-10</td>\n",
       "      <td>Half1</td>\n",
       "      <td>14:16</td>\n",
       "      <td>PIT 47</td>\n",
       "      <td>...</td>\n",
       "      <td>run</td>\n",
       "      <td>NaN</td>\n",
       "      <td>NaN</td>\n",
       "      <td>NaN</td>\n",
       "      <td>NaN</td>\n",
       "      <td>NaN</td>\n",
       "      <td>NaN</td>\n",
       "      <td>TEN</td>\n",
       "      <td>00-0024331</td>\n",
       "      <td>S.Tulloch</td>\n",
       "    </tr>\n",
       "    <tr>\n",
       "      <th>3</th>\n",
       "      <td>PIT</td>\n",
       "      <td>TEN</td>\n",
       "      <td>PIT</td>\n",
       "      <td>home</td>\n",
       "      <td>TEN</td>\n",
       "      <td>PIT</td>\n",
       "      <td>2009-09-10</td>\n",
       "      <td>Half1</td>\n",
       "      <td>13:35</td>\n",
       "      <td>PIT 44</td>\n",
       "      <td>...</td>\n",
       "      <td>pass</td>\n",
       "      <td>deep</td>\n",
       "      <td>right</td>\n",
       "      <td>00-0022924</td>\n",
       "      <td>B.Roethlisberger</td>\n",
       "      <td>00-0026901</td>\n",
       "      <td>M.Wallace</td>\n",
       "      <td>NaN</td>\n",
       "      <td>NaN</td>\n",
       "      <td>NaN</td>\n",
       "    </tr>\n",
       "    <tr>\n",
       "      <th>4</th>\n",
       "      <td>PIT</td>\n",
       "      <td>TEN</td>\n",
       "      <td>PIT</td>\n",
       "      <td>home</td>\n",
       "      <td>TEN</td>\n",
       "      <td>PIT</td>\n",
       "      <td>2009-09-10</td>\n",
       "      <td>Half1</td>\n",
       "      <td>13:27</td>\n",
       "      <td>PIT 44</td>\n",
       "      <td>...</td>\n",
       "      <td>punt</td>\n",
       "      <td>NaN</td>\n",
       "      <td>NaN</td>\n",
       "      <td>NaN</td>\n",
       "      <td>NaN</td>\n",
       "      <td>NaN</td>\n",
       "      <td>NaN</td>\n",
       "      <td>NaN</td>\n",
       "      <td>NaN</td>\n",
       "      <td>NaN</td>\n",
       "    </tr>\n",
       "  </tbody>\n",
       "</table>\n",
       "<p>5 rows × 21 columns</p>\n",
       "</div>"
      ],
      "text/plain": [
       "  home_team away_team posteam posteam_type defteam side_of_field   game_date  \\\n",
       "0       PIT       TEN     PIT         home     TEN           TEN  2009-09-10   \n",
       "1       PIT       TEN     PIT         home     TEN           PIT  2009-09-10   \n",
       "2       PIT       TEN     PIT         home     TEN           PIT  2009-09-10   \n",
       "3       PIT       TEN     PIT         home     TEN           PIT  2009-09-10   \n",
       "4       PIT       TEN     PIT         home     TEN           PIT  2009-09-10   \n",
       "\n",
       "  game_half   time   yrdln  ... play_type pass_length pass_location  \\\n",
       "0     Half1  15:00  TEN 30  ...   kickoff         NaN           NaN   \n",
       "1     Half1  14:53  PIT 42  ...      pass       short          left   \n",
       "2     Half1  14:16  PIT 47  ...       run         NaN           NaN   \n",
       "3     Half1  13:35  PIT 44  ...      pass        deep         right   \n",
       "4     Half1  13:27  PIT 44  ...      punt         NaN           NaN   \n",
       "\n",
       "  passer_player_id passer_player_name receiver_player_id receiver_player_name  \\\n",
       "0              NaN                NaN                NaN                  NaN   \n",
       "1       00-0022924   B.Roethlisberger         00-0017162               H.Ward   \n",
       "2              NaN                NaN                NaN                  NaN   \n",
       "3       00-0022924   B.Roethlisberger         00-0026901            M.Wallace   \n",
       "4              NaN                NaN                NaN                  NaN   \n",
       "\n",
       "  solo_tackle_1_team solo_tackle_1_player_id solo_tackle_1_player_name  \n",
       "0                TEN              00-0025406                 M.Griffin  \n",
       "1                TEN              00-0021219                    C.Hope  \n",
       "2                TEN              00-0024331                 S.Tulloch  \n",
       "3                NaN                     NaN                       NaN  \n",
       "4                NaN                     NaN                       NaN  \n",
       "\n",
       "[5 rows x 21 columns]"
      ]
     },
     "execution_count": 17,
     "metadata": {},
     "output_type": "execute_result"
    }
   ],
   "source": [
    "category_data.head()"
   ]
  },
  {
   "cell_type": "code",
   "execution_count": 18,
   "metadata": {},
   "outputs": [
    {
     "data": {
      "text/plain": [
       "(14,)"
      ]
     },
     "execution_count": 18,
     "metadata": {},
     "output_type": "execute_result"
    }
   ],
   "source": [
    "# Whay is the number of columns that has missing data ?\n",
    "category_data.columns[category_data.isna().any()].shape"
   ]
  },
  {
   "cell_type": "markdown",
   "metadata": {},
   "source": [
    "14 out of 21 I will handle them"
   ]
  },
  {
   "cell_type": "code",
   "execution_count": 19,
   "metadata": {},
   "outputs": [
    {
     "data": {
      "text/plain": [
       "Index(['posteam', 'posteam_type', 'defteam', 'side_of_field', 'yrdln',\n",
       "       'pass_length', 'pass_location', 'passer_player_id',\n",
       "       'passer_player_name', 'receiver_player_id', 'receiver_player_name',\n",
       "       'solo_tackle_1_team', 'solo_tackle_1_player_id',\n",
       "       'solo_tackle_1_player_name'],\n",
       "      dtype='object')"
      ]
     },
     "execution_count": 19,
     "metadata": {},
     "output_type": "execute_result"
    }
   ],
   "source": [
    "# Display the columns to determine how each one should be handled\n",
    "category_data.columns[category_data.isna().any()]"
   ]
  },
  {
   "cell_type": "code",
   "execution_count": 20,
   "metadata": {},
   "outputs": [
    {
     "data": {
      "text/plain": [
       "Index(['posteam', 'posteam_type', 'defteam', 'side_of_field', 'yrdln',\n",
       "       'pass_length', 'pass_location', 'passer_player_id',\n",
       "       'passer_player_name', 'receiver_player_id', 'receiver_player_name',\n",
       "       'solo_tackle_1_team', 'solo_tackle_1_player_id',\n",
       "       'solo_tackle_1_player_name'],\n",
       "      dtype='object')"
      ]
     },
     "execution_count": 20,
     "metadata": {},
     "output_type": "execute_result"
    }
   ],
   "source": [
    "category_data.columns[category_data.isna().any()][0:]"
   ]
  },
  {
   "cell_type": "markdown",
   "metadata": {},
   "source": [
    "We can handle these columns using the back and farward fill technique:\n",
    "    \n",
    "    ['passer_player_id', 'passer_player_name', 'receiver_player_id', 'receiver_player_name', 'solo_tackle_1_player_id', 'solo_tackle_1_player_name']\n",
    "\n",
    "\n",
    "We can handle these columns based on the most frequent value:\n",
    "    \n",
    "    ['posteam', 'posteam_type', 'defteam', 'side_of_field', 'yrdln', 'pass_length', 'pass_location', 'solo_tackle_1_team']"
   ]
  },
  {
   "cell_type": "code",
   "execution_count": 21,
   "metadata": {},
   "outputs": [],
   "source": [
    "# Splits the columns and save their name into lists\n",
    "back_fareard_fill_columns = category_data.columns[category_data.isna().any()][7:].drop('solo_tackle_1_team')\n",
    "most_frequent_fill_columns = category_data.columns[category_data.isna().any()].drop(back_fareard_fill_columns)"
   ]
  },
  {
   "cell_type": "code",
   "execution_count": 22,
   "metadata": {},
   "outputs": [],
   "source": [
    "# Fill missing data by farward method\n",
    "category_data[back_fareard_fill_columns] = category_data[back_fareard_fill_columns].fillna(method='ffill')"
   ]
  },
  {
   "cell_type": "code",
   "execution_count": 23,
   "metadata": {},
   "outputs": [],
   "source": [
    "# Fill missing data by back method\n",
    "category_data[back_fareard_fill_columns] = category_data[back_fareard_fill_columns].fillna(method='bfill')"
   ]
  },
  {
   "cell_type": "code",
   "execution_count": 24,
   "metadata": {},
   "outputs": [
    {
     "data": {
      "text/plain": [
       "passer_player_id             False\n",
       "passer_player_name           False\n",
       "receiver_player_id           False\n",
       "receiver_player_name         False\n",
       "solo_tackle_1_player_id      False\n",
       "solo_tackle_1_player_name    False\n",
       "dtype: bool"
      ]
     },
     "execution_count": 24,
     "metadata": {},
     "output_type": "execute_result"
    }
   ],
   "source": [
    "# Check the missing data for back_fareard_fill_columns \n",
    "category_data[back_fareard_fill_columns].isna().any()"
   ]
  },
  {
   "cell_type": "code",
   "execution_count": 25,
   "metadata": {},
   "outputs": [],
   "source": [
    "# Fill missing data with most frequent value for each column in most_frequent_fill_columns\n",
    "category_data[most_frequent_fill_columns] = category_data[most_frequent_fill_columns].fillna(category_data[most_frequent_fill_columns].mode().iloc[0])"
   ]
  },
  {
   "cell_type": "code",
   "execution_count": 26,
   "metadata": {},
   "outputs": [
    {
     "data": {
      "text/plain": [
       "home_team                    False\n",
       "away_team                    False\n",
       "posteam                      False\n",
       "posteam_type                 False\n",
       "defteam                      False\n",
       "side_of_field                False\n",
       "game_date                    False\n",
       "game_half                    False\n",
       "time                         False\n",
       "yrdln                        False\n",
       "desc                         False\n",
       "play_type                    False\n",
       "pass_length                  False\n",
       "pass_location                False\n",
       "passer_player_id             False\n",
       "passer_player_name           False\n",
       "receiver_player_id           False\n",
       "receiver_player_name         False\n",
       "solo_tackle_1_team           False\n",
       "solo_tackle_1_player_id      False\n",
       "solo_tackle_1_player_name    False\n",
       "dtype: bool"
      ]
     },
     "execution_count": 26,
     "metadata": {},
     "output_type": "execute_result"
    }
   ],
   "source": [
    "# Check missing data for the category dataframe\n",
    "category_data.isna().any()"
   ]
  },
  {
   "cell_type": "markdown",
   "metadata": {},
   "source": [
    "Everything is right, now we will merge all them to get the final datafram"
   ]
  },
  {
   "cell_type": "markdown",
   "metadata": {},
   "source": [
    "# Get the final dataframe"
   ]
  },
  {
   "cell_type": "code",
   "execution_count": 27,
   "metadata": {},
   "outputs": [],
   "source": [
    "data = numeric_data.join(category_data)"
   ]
  },
  {
   "cell_type": "code",
   "execution_count": 28,
   "metadata": {},
   "outputs": [
    {
     "data": {
      "text/html": [
       "<div>\n",
       "<style scoped>\n",
       "    .dataframe tbody tr th:only-of-type {\n",
       "        vertical-align: middle;\n",
       "    }\n",
       "\n",
       "    .dataframe tbody tr th {\n",
       "        vertical-align: top;\n",
       "    }\n",
       "\n",
       "    .dataframe thead th {\n",
       "        text-align: right;\n",
       "    }\n",
       "</style>\n",
       "<table border=\"1\" class=\"dataframe\">\n",
       "  <thead>\n",
       "    <tr style=\"text-align: right;\">\n",
       "      <th></th>\n",
       "      <th>play_id</th>\n",
       "      <th>game_id</th>\n",
       "      <th>yardline_100</th>\n",
       "      <th>quarter_seconds_remaining</th>\n",
       "      <th>half_seconds_remaining</th>\n",
       "      <th>game_seconds_remaining</th>\n",
       "      <th>quarter_end</th>\n",
       "      <th>drive</th>\n",
       "      <th>sp</th>\n",
       "      <th>qtr</th>\n",
       "      <th>...</th>\n",
       "      <th>play_type</th>\n",
       "      <th>pass_length</th>\n",
       "      <th>pass_location</th>\n",
       "      <th>passer_player_id</th>\n",
       "      <th>passer_player_name</th>\n",
       "      <th>receiver_player_id</th>\n",
       "      <th>receiver_player_name</th>\n",
       "      <th>solo_tackle_1_team</th>\n",
       "      <th>solo_tackle_1_player_id</th>\n",
       "      <th>solo_tackle_1_player_name</th>\n",
       "    </tr>\n",
       "  </thead>\n",
       "  <tbody>\n",
       "    <tr>\n",
       "      <th>0</th>\n",
       "      <td>46</td>\n",
       "      <td>2009091000</td>\n",
       "      <td>30.0</td>\n",
       "      <td>900.0</td>\n",
       "      <td>1800.0</td>\n",
       "      <td>3600.0</td>\n",
       "      <td>0</td>\n",
       "      <td>1</td>\n",
       "      <td>0</td>\n",
       "      <td>1</td>\n",
       "      <td>...</td>\n",
       "      <td>kickoff</td>\n",
       "      <td>short</td>\n",
       "      <td>right</td>\n",
       "      <td>00-0022924</td>\n",
       "      <td>B.Roethlisberger</td>\n",
       "      <td>00-0017162</td>\n",
       "      <td>H.Ward</td>\n",
       "      <td>TEN</td>\n",
       "      <td>00-0025406</td>\n",
       "      <td>M.Griffin</td>\n",
       "    </tr>\n",
       "    <tr>\n",
       "      <th>1</th>\n",
       "      <td>68</td>\n",
       "      <td>2009091000</td>\n",
       "      <td>58.0</td>\n",
       "      <td>893.0</td>\n",
       "      <td>1793.0</td>\n",
       "      <td>3593.0</td>\n",
       "      <td>0</td>\n",
       "      <td>1</td>\n",
       "      <td>0</td>\n",
       "      <td>1</td>\n",
       "      <td>...</td>\n",
       "      <td>pass</td>\n",
       "      <td>short</td>\n",
       "      <td>left</td>\n",
       "      <td>00-0022924</td>\n",
       "      <td>B.Roethlisberger</td>\n",
       "      <td>00-0017162</td>\n",
       "      <td>H.Ward</td>\n",
       "      <td>TEN</td>\n",
       "      <td>00-0021219</td>\n",
       "      <td>C.Hope</td>\n",
       "    </tr>\n",
       "    <tr>\n",
       "      <th>2</th>\n",
       "      <td>92</td>\n",
       "      <td>2009091000</td>\n",
       "      <td>53.0</td>\n",
       "      <td>856.0</td>\n",
       "      <td>1756.0</td>\n",
       "      <td>3556.0</td>\n",
       "      <td>0</td>\n",
       "      <td>1</td>\n",
       "      <td>0</td>\n",
       "      <td>1</td>\n",
       "      <td>...</td>\n",
       "      <td>run</td>\n",
       "      <td>short</td>\n",
       "      <td>right</td>\n",
       "      <td>00-0022924</td>\n",
       "      <td>B.Roethlisberger</td>\n",
       "      <td>00-0017162</td>\n",
       "      <td>H.Ward</td>\n",
       "      <td>TEN</td>\n",
       "      <td>00-0024331</td>\n",
       "      <td>S.Tulloch</td>\n",
       "    </tr>\n",
       "    <tr>\n",
       "      <th>3</th>\n",
       "      <td>113</td>\n",
       "      <td>2009091000</td>\n",
       "      <td>56.0</td>\n",
       "      <td>815.0</td>\n",
       "      <td>1715.0</td>\n",
       "      <td>3515.0</td>\n",
       "      <td>0</td>\n",
       "      <td>1</td>\n",
       "      <td>0</td>\n",
       "      <td>1</td>\n",
       "      <td>...</td>\n",
       "      <td>pass</td>\n",
       "      <td>deep</td>\n",
       "      <td>right</td>\n",
       "      <td>00-0022924</td>\n",
       "      <td>B.Roethlisberger</td>\n",
       "      <td>00-0026901</td>\n",
       "      <td>M.Wallace</td>\n",
       "      <td>STL</td>\n",
       "      <td>00-0024331</td>\n",
       "      <td>S.Tulloch</td>\n",
       "    </tr>\n",
       "    <tr>\n",
       "      <th>4</th>\n",
       "      <td>139</td>\n",
       "      <td>2009091000</td>\n",
       "      <td>56.0</td>\n",
       "      <td>807.0</td>\n",
       "      <td>1707.0</td>\n",
       "      <td>3507.0</td>\n",
       "      <td>0</td>\n",
       "      <td>1</td>\n",
       "      <td>0</td>\n",
       "      <td>1</td>\n",
       "      <td>...</td>\n",
       "      <td>punt</td>\n",
       "      <td>short</td>\n",
       "      <td>right</td>\n",
       "      <td>00-0022924</td>\n",
       "      <td>B.Roethlisberger</td>\n",
       "      <td>00-0026901</td>\n",
       "      <td>M.Wallace</td>\n",
       "      <td>STL</td>\n",
       "      <td>00-0024331</td>\n",
       "      <td>S.Tulloch</td>\n",
       "    </tr>\n",
       "    <tr>\n",
       "      <th>5</th>\n",
       "      <td>162</td>\n",
       "      <td>2009091000</td>\n",
       "      <td>98.0</td>\n",
       "      <td>796.0</td>\n",
       "      <td>1696.0</td>\n",
       "      <td>3496.0</td>\n",
       "      <td>0</td>\n",
       "      <td>2</td>\n",
       "      <td>0</td>\n",
       "      <td>1</td>\n",
       "      <td>...</td>\n",
       "      <td>run</td>\n",
       "      <td>short</td>\n",
       "      <td>right</td>\n",
       "      <td>00-0022924</td>\n",
       "      <td>B.Roethlisberger</td>\n",
       "      <td>00-0026901</td>\n",
       "      <td>M.Wallace</td>\n",
       "      <td>STL</td>\n",
       "      <td>00-0024331</td>\n",
       "      <td>S.Tulloch</td>\n",
       "    </tr>\n",
       "    <tr>\n",
       "      <th>6</th>\n",
       "      <td>183</td>\n",
       "      <td>2009091000</td>\n",
       "      <td>98.0</td>\n",
       "      <td>760.0</td>\n",
       "      <td>1660.0</td>\n",
       "      <td>3460.0</td>\n",
       "      <td>0</td>\n",
       "      <td>2</td>\n",
       "      <td>0</td>\n",
       "      <td>1</td>\n",
       "      <td>...</td>\n",
       "      <td>pass</td>\n",
       "      <td>short</td>\n",
       "      <td>left</td>\n",
       "      <td>00-0003292</td>\n",
       "      <td>K.Collins</td>\n",
       "      <td>00-0024489</td>\n",
       "      <td>A.Hall</td>\n",
       "      <td>PIT</td>\n",
       "      <td>00-0022119</td>\n",
       "      <td>T.Polamalu</td>\n",
       "    </tr>\n",
       "    <tr>\n",
       "      <th>7</th>\n",
       "      <td>207</td>\n",
       "      <td>2009091000</td>\n",
       "      <td>94.0</td>\n",
       "      <td>731.0</td>\n",
       "      <td>1631.0</td>\n",
       "      <td>3431.0</td>\n",
       "      <td>0</td>\n",
       "      <td>2</td>\n",
       "      <td>0</td>\n",
       "      <td>1</td>\n",
       "      <td>...</td>\n",
       "      <td>run</td>\n",
       "      <td>short</td>\n",
       "      <td>right</td>\n",
       "      <td>00-0003292</td>\n",
       "      <td>K.Collins</td>\n",
       "      <td>00-0024489</td>\n",
       "      <td>A.Hall</td>\n",
       "      <td>PIT</td>\n",
       "      <td>00-0022119</td>\n",
       "      <td>T.Polamalu</td>\n",
       "    </tr>\n",
       "    <tr>\n",
       "      <th>8</th>\n",
       "      <td>228</td>\n",
       "      <td>2009091000</td>\n",
       "      <td>96.0</td>\n",
       "      <td>694.0</td>\n",
       "      <td>1594.0</td>\n",
       "      <td>3394.0</td>\n",
       "      <td>0</td>\n",
       "      <td>2</td>\n",
       "      <td>0</td>\n",
       "      <td>1</td>\n",
       "      <td>...</td>\n",
       "      <td>punt</td>\n",
       "      <td>short</td>\n",
       "      <td>right</td>\n",
       "      <td>00-0003292</td>\n",
       "      <td>K.Collins</td>\n",
       "      <td>00-0024489</td>\n",
       "      <td>A.Hall</td>\n",
       "      <td>TEN</td>\n",
       "      <td>00-0025406</td>\n",
       "      <td>M.Griffin</td>\n",
       "    </tr>\n",
       "    <tr>\n",
       "      <th>9</th>\n",
       "      <td>253</td>\n",
       "      <td>2009091000</td>\n",
       "      <td>43.0</td>\n",
       "      <td>684.0</td>\n",
       "      <td>1584.0</td>\n",
       "      <td>3384.0</td>\n",
       "      <td>0</td>\n",
       "      <td>3</td>\n",
       "      <td>0</td>\n",
       "      <td>1</td>\n",
       "      <td>...</td>\n",
       "      <td>pass</td>\n",
       "      <td>short</td>\n",
       "      <td>right</td>\n",
       "      <td>00-0022924</td>\n",
       "      <td>B.Roethlisberger</td>\n",
       "      <td>00-0026901</td>\n",
       "      <td>M.Wallace</td>\n",
       "      <td>TEN</td>\n",
       "      <td>00-0026243</td>\n",
       "      <td>W.Hayes</td>\n",
       "    </tr>\n",
       "  </tbody>\n",
       "</table>\n",
       "<p>10 rows × 165 columns</p>\n",
       "</div>"
      ],
      "text/plain": [
       "   play_id     game_id  yardline_100  quarter_seconds_remaining  \\\n",
       "0       46  2009091000          30.0                      900.0   \n",
       "1       68  2009091000          58.0                      893.0   \n",
       "2       92  2009091000          53.0                      856.0   \n",
       "3      113  2009091000          56.0                      815.0   \n",
       "4      139  2009091000          56.0                      807.0   \n",
       "5      162  2009091000          98.0                      796.0   \n",
       "6      183  2009091000          98.0                      760.0   \n",
       "7      207  2009091000          94.0                      731.0   \n",
       "8      228  2009091000          96.0                      694.0   \n",
       "9      253  2009091000          43.0                      684.0   \n",
       "\n",
       "   half_seconds_remaining  game_seconds_remaining  quarter_end  drive  sp  \\\n",
       "0                  1800.0                  3600.0            0      1   0   \n",
       "1                  1793.0                  3593.0            0      1   0   \n",
       "2                  1756.0                  3556.0            0      1   0   \n",
       "3                  1715.0                  3515.0            0      1   0   \n",
       "4                  1707.0                  3507.0            0      1   0   \n",
       "5                  1696.0                  3496.0            0      2   0   \n",
       "6                  1660.0                  3460.0            0      2   0   \n",
       "7                  1631.0                  3431.0            0      2   0   \n",
       "8                  1594.0                  3394.0            0      2   0   \n",
       "9                  1584.0                  3384.0            0      3   0   \n",
       "\n",
       "   qtr  ...  play_type  pass_length  pass_location  passer_player_id  \\\n",
       "0    1  ...    kickoff        short          right        00-0022924   \n",
       "1    1  ...       pass        short           left        00-0022924   \n",
       "2    1  ...        run        short          right        00-0022924   \n",
       "3    1  ...       pass         deep          right        00-0022924   \n",
       "4    1  ...       punt        short          right        00-0022924   \n",
       "5    1  ...        run        short          right        00-0022924   \n",
       "6    1  ...       pass        short           left        00-0003292   \n",
       "7    1  ...        run        short          right        00-0003292   \n",
       "8    1  ...       punt        short          right        00-0003292   \n",
       "9    1  ...       pass        short          right        00-0022924   \n",
       "\n",
       "   passer_player_name  receiver_player_id  receiver_player_name  \\\n",
       "0    B.Roethlisberger          00-0017162                H.Ward   \n",
       "1    B.Roethlisberger          00-0017162                H.Ward   \n",
       "2    B.Roethlisberger          00-0017162                H.Ward   \n",
       "3    B.Roethlisberger          00-0026901             M.Wallace   \n",
       "4    B.Roethlisberger          00-0026901             M.Wallace   \n",
       "5    B.Roethlisberger          00-0026901             M.Wallace   \n",
       "6           K.Collins          00-0024489                A.Hall   \n",
       "7           K.Collins          00-0024489                A.Hall   \n",
       "8           K.Collins          00-0024489                A.Hall   \n",
       "9    B.Roethlisberger          00-0026901             M.Wallace   \n",
       "\n",
       "   solo_tackle_1_team  solo_tackle_1_player_id  solo_tackle_1_player_name  \n",
       "0                 TEN               00-0025406                  M.Griffin  \n",
       "1                 TEN               00-0021219                     C.Hope  \n",
       "2                 TEN               00-0024331                  S.Tulloch  \n",
       "3                 STL               00-0024331                  S.Tulloch  \n",
       "4                 STL               00-0024331                  S.Tulloch  \n",
       "5                 STL               00-0024331                  S.Tulloch  \n",
       "6                 PIT               00-0022119                 T.Polamalu  \n",
       "7                 PIT               00-0022119                 T.Polamalu  \n",
       "8                 TEN               00-0025406                  M.Griffin  \n",
       "9                 TEN               00-0026243                    W.Hayes  \n",
       "\n",
       "[10 rows x 165 columns]"
      ]
     },
     "execution_count": 28,
     "metadata": {},
     "output_type": "execute_result"
    }
   ],
   "source": [
    "data.head(10)"
   ]
  },
  {
   "cell_type": "markdown",
   "metadata": {},
   "source": [
    "Finally, I wish you a wonderful day! :)"
   ]
  }
 ],
 "metadata": {
  "kernelspec": {
   "display_name": "Python 3.8.3 ('base')",
   "language": "python",
   "name": "python3"
  },
  "language_info": {
   "codemirror_mode": {
    "name": "ipython",
    "version": 3
   },
   "file_extension": ".py",
   "mimetype": "text/x-python",
   "name": "python",
   "nbconvert_exporter": "python",
   "pygments_lexer": "ipython3",
   "version": "3.8.3"
  },
  "orig_nbformat": 4,
  "vscode": {
   "interpreter": {
    "hash": "5ae58900cfbb8c43ab3495913814b7cf26024f51651a94ce8bf64d6111688e8d"
   }
  }
 },
 "nbformat": 4,
 "nbformat_minor": 2
}
